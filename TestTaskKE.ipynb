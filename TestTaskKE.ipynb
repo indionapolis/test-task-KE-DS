{
  "nbformat": 4,
  "nbformat_minor": 0,
  "metadata": {
    "colab": {
      "name": "TestTaskKE.ipynb",
      "provenance": [],
      "collapsed_sections": [
        "bakC4NHU0Jfs",
        "ZFcB0rWXyHtJ"
      ]
    },
    "kernelspec": {
      "display_name": "Python 3",
      "name": "python3"
    },
    "accelerator": "GPU",
    "widgets": {
      "application/vnd.jupyter.widget-state+json": {
        "2360f74b46364156803320481fe221c6": {
          "model_module": "@jupyter-widgets/controls",
          "model_name": "HBoxModel",
          "state": {
            "_view_name": "HBoxView",
            "_dom_classes": [],
            "_model_name": "HBoxModel",
            "_view_module": "@jupyter-widgets/controls",
            "_model_module_version": "1.5.0",
            "_view_count": null,
            "_view_module_version": "1.5.0",
            "box_style": "",
            "layout": "IPY_MODEL_6a6f995ed5bb4159928bc8f74b6058d3",
            "_model_module": "@jupyter-widgets/controls",
            "children": [
              "IPY_MODEL_1b7fcff0cd19417695a71322e4476b9a",
              "IPY_MODEL_9e1d66a80d28470698d6b16c96662b6f"
            ]
          }
        },
        "6a6f995ed5bb4159928bc8f74b6058d3": {
          "model_module": "@jupyter-widgets/base",
          "model_name": "LayoutModel",
          "state": {
            "_view_name": "LayoutView",
            "grid_template_rows": null,
            "right": null,
            "justify_content": null,
            "_view_module": "@jupyter-widgets/base",
            "overflow": null,
            "_model_module_version": "1.2.0",
            "_view_count": null,
            "flex_flow": null,
            "width": null,
            "min_width": null,
            "border": null,
            "align_items": null,
            "bottom": null,
            "_model_module": "@jupyter-widgets/base",
            "top": null,
            "grid_column": null,
            "overflow_y": null,
            "overflow_x": null,
            "grid_auto_flow": null,
            "grid_area": null,
            "grid_template_columns": null,
            "flex": null,
            "_model_name": "LayoutModel",
            "justify_items": null,
            "grid_row": null,
            "max_height": null,
            "align_content": null,
            "visibility": null,
            "align_self": null,
            "height": null,
            "min_height": null,
            "padding": null,
            "grid_auto_rows": null,
            "grid_gap": null,
            "max_width": null,
            "order": null,
            "_view_module_version": "1.2.0",
            "grid_template_areas": null,
            "object_position": null,
            "object_fit": null,
            "grid_auto_columns": null,
            "margin": null,
            "display": null,
            "left": null
          }
        },
        "1b7fcff0cd19417695a71322e4476b9a": {
          "model_module": "@jupyter-widgets/controls",
          "model_name": "FloatProgressModel",
          "state": {
            "_view_name": "ProgressView",
            "style": "IPY_MODEL_a9b480ea21914a038bb2b7f6b78477b8",
            "_dom_classes": [],
            "description": "",
            "_model_name": "FloatProgressModel",
            "bar_style": "success",
            "max": 1,
            "_view_module": "@jupyter-widgets/controls",
            "_model_module_version": "1.5.0",
            "value": 1,
            "_view_count": null,
            "_view_module_version": "1.5.0",
            "orientation": "horizontal",
            "min": 0,
            "description_tooltip": null,
            "_model_module": "@jupyter-widgets/controls",
            "layout": "IPY_MODEL_bec51e61c90a4cb3914af17b87fa1bdf"
          }
        },
        "9e1d66a80d28470698d6b16c96662b6f": {
          "model_module": "@jupyter-widgets/controls",
          "model_name": "HTMLModel",
          "state": {
            "_view_name": "HTMLView",
            "style": "IPY_MODEL_0747003767a9431cb11b065e76069a69",
            "_dom_classes": [],
            "description": "",
            "_model_name": "HTMLModel",
            "placeholder": "​",
            "_view_module": "@jupyter-widgets/controls",
            "_model_module_version": "1.5.0",
            "value": " 191018/? [02:58&lt;00:00, 1067.39it/s]",
            "_view_count": null,
            "_view_module_version": "1.5.0",
            "description_tooltip": null,
            "_model_module": "@jupyter-widgets/controls",
            "layout": "IPY_MODEL_eadf1ea195ce442298f82670bd657ef7"
          }
        },
        "a9b480ea21914a038bb2b7f6b78477b8": {
          "model_module": "@jupyter-widgets/controls",
          "model_name": "ProgressStyleModel",
          "state": {
            "_view_name": "StyleView",
            "_model_name": "ProgressStyleModel",
            "description_width": "initial",
            "_view_module": "@jupyter-widgets/base",
            "_model_module_version": "1.5.0",
            "_view_count": null,
            "_view_module_version": "1.2.0",
            "bar_color": null,
            "_model_module": "@jupyter-widgets/controls"
          }
        },
        "bec51e61c90a4cb3914af17b87fa1bdf": {
          "model_module": "@jupyter-widgets/base",
          "model_name": "LayoutModel",
          "state": {
            "_view_name": "LayoutView",
            "grid_template_rows": null,
            "right": null,
            "justify_content": null,
            "_view_module": "@jupyter-widgets/base",
            "overflow": null,
            "_model_module_version": "1.2.0",
            "_view_count": null,
            "flex_flow": null,
            "width": null,
            "min_width": null,
            "border": null,
            "align_items": null,
            "bottom": null,
            "_model_module": "@jupyter-widgets/base",
            "top": null,
            "grid_column": null,
            "overflow_y": null,
            "overflow_x": null,
            "grid_auto_flow": null,
            "grid_area": null,
            "grid_template_columns": null,
            "flex": null,
            "_model_name": "LayoutModel",
            "justify_items": null,
            "grid_row": null,
            "max_height": null,
            "align_content": null,
            "visibility": null,
            "align_self": null,
            "height": null,
            "min_height": null,
            "padding": null,
            "grid_auto_rows": null,
            "grid_gap": null,
            "max_width": null,
            "order": null,
            "_view_module_version": "1.2.0",
            "grid_template_areas": null,
            "object_position": null,
            "object_fit": null,
            "grid_auto_columns": null,
            "margin": null,
            "display": null,
            "left": null
          }
        },
        "0747003767a9431cb11b065e76069a69": {
          "model_module": "@jupyter-widgets/controls",
          "model_name": "DescriptionStyleModel",
          "state": {
            "_view_name": "StyleView",
            "_model_name": "DescriptionStyleModel",
            "description_width": "",
            "_view_module": "@jupyter-widgets/base",
            "_model_module_version": "1.5.0",
            "_view_count": null,
            "_view_module_version": "1.2.0",
            "_model_module": "@jupyter-widgets/controls"
          }
        },
        "eadf1ea195ce442298f82670bd657ef7": {
          "model_module": "@jupyter-widgets/base",
          "model_name": "LayoutModel",
          "state": {
            "_view_name": "LayoutView",
            "grid_template_rows": null,
            "right": null,
            "justify_content": null,
            "_view_module": "@jupyter-widgets/base",
            "overflow": null,
            "_model_module_version": "1.2.0",
            "_view_count": null,
            "flex_flow": null,
            "width": null,
            "min_width": null,
            "border": null,
            "align_items": null,
            "bottom": null,
            "_model_module": "@jupyter-widgets/base",
            "top": null,
            "grid_column": null,
            "overflow_y": null,
            "overflow_x": null,
            "grid_auto_flow": null,
            "grid_area": null,
            "grid_template_columns": null,
            "flex": null,
            "_model_name": "LayoutModel",
            "justify_items": null,
            "grid_row": null,
            "max_height": null,
            "align_content": null,
            "visibility": null,
            "align_self": null,
            "height": null,
            "min_height": null,
            "padding": null,
            "grid_auto_rows": null,
            "grid_gap": null,
            "max_width": null,
            "order": null,
            "_view_module_version": "1.2.0",
            "grid_template_areas": null,
            "object_position": null,
            "object_fit": null,
            "grid_auto_columns": null,
            "margin": null,
            "display": null,
            "left": null
          }
        },
        "4aba0934bcaa422f9f929b5489a33275": {
          "model_module": "@jupyter-widgets/controls",
          "model_name": "HBoxModel",
          "state": {
            "_view_name": "HBoxView",
            "_dom_classes": [],
            "_model_name": "HBoxModel",
            "_view_module": "@jupyter-widgets/controls",
            "_model_module_version": "1.5.0",
            "_view_count": null,
            "_view_module_version": "1.5.0",
            "box_style": "",
            "layout": "IPY_MODEL_3c161b8986a64e70929a9d1b4420c1b7",
            "_model_module": "@jupyter-widgets/controls",
            "children": [
              "IPY_MODEL_9304236bb3bc4bd8a07e78d4e7ab46a1",
              "IPY_MODEL_0d65eb6a1bb84273b095be6970f12332"
            ]
          }
        },
        "3c161b8986a64e70929a9d1b4420c1b7": {
          "model_module": "@jupyter-widgets/base",
          "model_name": "LayoutModel",
          "state": {
            "_view_name": "LayoutView",
            "grid_template_rows": null,
            "right": null,
            "justify_content": null,
            "_view_module": "@jupyter-widgets/base",
            "overflow": null,
            "_model_module_version": "1.2.0",
            "_view_count": null,
            "flex_flow": null,
            "width": null,
            "min_width": null,
            "border": null,
            "align_items": null,
            "bottom": null,
            "_model_module": "@jupyter-widgets/base",
            "top": null,
            "grid_column": null,
            "overflow_y": null,
            "overflow_x": null,
            "grid_auto_flow": null,
            "grid_area": null,
            "grid_template_columns": null,
            "flex": null,
            "_model_name": "LayoutModel",
            "justify_items": null,
            "grid_row": null,
            "max_height": null,
            "align_content": null,
            "visibility": null,
            "align_self": null,
            "height": null,
            "min_height": null,
            "padding": null,
            "grid_auto_rows": null,
            "grid_gap": null,
            "max_width": null,
            "order": null,
            "_view_module_version": "1.2.0",
            "grid_template_areas": null,
            "object_position": null,
            "object_fit": null,
            "grid_auto_columns": null,
            "margin": null,
            "display": null,
            "left": null
          }
        },
        "9304236bb3bc4bd8a07e78d4e7ab46a1": {
          "model_module": "@jupyter-widgets/controls",
          "model_name": "FloatProgressModel",
          "state": {
            "_view_name": "ProgressView",
            "style": "IPY_MODEL_d97a7675980549ebae56860acf3b8866",
            "_dom_classes": [],
            "description": "",
            "_model_name": "FloatProgressModel",
            "bar_style": "success",
            "max": 1,
            "_view_module": "@jupyter-widgets/controls",
            "_model_module_version": "1.5.0",
            "value": 1,
            "_view_count": null,
            "_view_module_version": "1.5.0",
            "orientation": "horizontal",
            "min": 0,
            "description_tooltip": null,
            "_model_module": "@jupyter-widgets/controls",
            "layout": "IPY_MODEL_5b3a5fee20174b5e9b526ecfc3ae9ff7"
          }
        },
        "0d65eb6a1bb84273b095be6970f12332": {
          "model_module": "@jupyter-widgets/controls",
          "model_name": "HTMLModel",
          "state": {
            "_view_name": "HTMLView",
            "style": "IPY_MODEL_96aaf12b90124cd38e2dfdf03d7424f1",
            "_dom_classes": [],
            "description": "",
            "_model_name": "HTMLModel",
            "placeholder": "​",
            "_view_module": "@jupyter-widgets/controls",
            "_model_module_version": "1.5.0",
            "value": " 199991/? [37:56&lt;00:00, 87.84it/s]",
            "_view_count": null,
            "_view_module_version": "1.5.0",
            "description_tooltip": null,
            "_model_module": "@jupyter-widgets/controls",
            "layout": "IPY_MODEL_2cc3ce579d3f455393365700d56a9174"
          }
        },
        "d97a7675980549ebae56860acf3b8866": {
          "model_module": "@jupyter-widgets/controls",
          "model_name": "ProgressStyleModel",
          "state": {
            "_view_name": "StyleView",
            "_model_name": "ProgressStyleModel",
            "description_width": "initial",
            "_view_module": "@jupyter-widgets/base",
            "_model_module_version": "1.5.0",
            "_view_count": null,
            "_view_module_version": "1.2.0",
            "bar_color": null,
            "_model_module": "@jupyter-widgets/controls"
          }
        },
        "5b3a5fee20174b5e9b526ecfc3ae9ff7": {
          "model_module": "@jupyter-widgets/base",
          "model_name": "LayoutModel",
          "state": {
            "_view_name": "LayoutView",
            "grid_template_rows": null,
            "right": null,
            "justify_content": null,
            "_view_module": "@jupyter-widgets/base",
            "overflow": null,
            "_model_module_version": "1.2.0",
            "_view_count": null,
            "flex_flow": null,
            "width": null,
            "min_width": null,
            "border": null,
            "align_items": null,
            "bottom": null,
            "_model_module": "@jupyter-widgets/base",
            "top": null,
            "grid_column": null,
            "overflow_y": null,
            "overflow_x": null,
            "grid_auto_flow": null,
            "grid_area": null,
            "grid_template_columns": null,
            "flex": null,
            "_model_name": "LayoutModel",
            "justify_items": null,
            "grid_row": null,
            "max_height": null,
            "align_content": null,
            "visibility": null,
            "align_self": null,
            "height": null,
            "min_height": null,
            "padding": null,
            "grid_auto_rows": null,
            "grid_gap": null,
            "max_width": null,
            "order": null,
            "_view_module_version": "1.2.0",
            "grid_template_areas": null,
            "object_position": null,
            "object_fit": null,
            "grid_auto_columns": null,
            "margin": null,
            "display": null,
            "left": null
          }
        },
        "96aaf12b90124cd38e2dfdf03d7424f1": {
          "model_module": "@jupyter-widgets/controls",
          "model_name": "DescriptionStyleModel",
          "state": {
            "_view_name": "StyleView",
            "_model_name": "DescriptionStyleModel",
            "description_width": "",
            "_view_module": "@jupyter-widgets/base",
            "_model_module_version": "1.5.0",
            "_view_count": null,
            "_view_module_version": "1.2.0",
            "_model_module": "@jupyter-widgets/controls"
          }
        },
        "2cc3ce579d3f455393365700d56a9174": {
          "model_module": "@jupyter-widgets/base",
          "model_name": "LayoutModel",
          "state": {
            "_view_name": "LayoutView",
            "grid_template_rows": null,
            "right": null,
            "justify_content": null,
            "_view_module": "@jupyter-widgets/base",
            "overflow": null,
            "_model_module_version": "1.2.0",
            "_view_count": null,
            "flex_flow": null,
            "width": null,
            "min_width": null,
            "border": null,
            "align_items": null,
            "bottom": null,
            "_model_module": "@jupyter-widgets/base",
            "top": null,
            "grid_column": null,
            "overflow_y": null,
            "overflow_x": null,
            "grid_auto_flow": null,
            "grid_area": null,
            "grid_template_columns": null,
            "flex": null,
            "_model_name": "LayoutModel",
            "justify_items": null,
            "grid_row": null,
            "max_height": null,
            "align_content": null,
            "visibility": null,
            "align_self": null,
            "height": null,
            "min_height": null,
            "padding": null,
            "grid_auto_rows": null,
            "grid_gap": null,
            "max_width": null,
            "order": null,
            "_view_module_version": "1.2.0",
            "grid_template_areas": null,
            "object_position": null,
            "object_fit": null,
            "grid_auto_columns": null,
            "margin": null,
            "display": null,
            "left": null
          }
        }
      }
    }
  },
  "cells": [
    {
      "cell_type": "code",
      "metadata": {
        "id": "VIIrs2dnJyU_"
      },
      "source": [
        "!pip install s3fs"
      ],
      "execution_count": null,
      "outputs": []
    },
    {
      "cell_type": "code",
      "metadata": {
        "id": "4_rJxG8zJpgF"
      },
      "source": [
        "import s3fs\n",
        "\n",
        "# Подключение до S3\n",
        "fs = s3fs.S3FileSystem(key=\"oGG7onz8X7dfT_AKvwKn\",\n",
        "                       secret=\"YT74LUkrzipAFWcBmHuBOszIxwdLFtjNPkxkVV4O\",\n",
        "                       client_kwargs={'endpoint_url': \"http://storage.yandexcloud.net\"})\n",
        "\n",
        "with fs.open(f\"nlp-test-task/data.csv\", \"rb\") as remote_file:\n",
        "    # Скачает датасет в файл data.csv \n",
        "    with open(\"data.csv\", \"wb\") as local_file:\n",
        "        local_file.write(remote_file.read())"
      ],
      "execution_count": 2,
      "outputs": []
    },
    {
      "cell_type": "code",
      "metadata": {
        "id": "zxBXAsJCKCKn"
      },
      "source": [
        "import pandas as pd\n",
        "\n",
        "df = pd.read_csv(\"data.csv\")"
      ],
      "execution_count": 3,
      "outputs": []
    },
    {
      "cell_type": "code",
      "metadata": {
        "colab": {
          "base_uri": "https://localhost:8080/",
          "height": 204
        },
        "id": "AayHA-X5Kemw",
        "outputId": "dd85a862-a9a3-4d5f-dc71-de7f4f975c47"
      },
      "source": [
        "df.head()"
      ],
      "execution_count": 4,
      "outputs": [
        {
          "output_type": "execute_result",
          "data": {
            "text/html": [
              "<div>\n",
              "<style scoped>\n",
              "    .dataframe tbody tr th:only-of-type {\n",
              "        vertical-align: middle;\n",
              "    }\n",
              "\n",
              "    .dataframe tbody tr th {\n",
              "        vertical-align: top;\n",
              "    }\n",
              "\n",
              "    .dataframe thead th {\n",
              "        text-align: right;\n",
              "    }\n",
              "</style>\n",
              "<table border=\"1\" class=\"dataframe\">\n",
              "  <thead>\n",
              "    <tr style=\"text-align: right;\">\n",
              "      <th></th>\n",
              "      <th>Unnamed: 0</th>\n",
              "      <th>title</th>\n",
              "      <th>description</th>\n",
              "    </tr>\n",
              "  </thead>\n",
              "  <tbody>\n",
              "    <tr>\n",
              "      <th>0</th>\n",
              "      <td>30330</td>\n",
              "      <td>Анальная пробка</td>\n",
              "      <td>&lt;p&gt;&lt;img src=\"https://image-cdn.kazanexpress.ru...</td>\n",
              "    </tr>\n",
              "    <tr>\n",
              "      <th>1</th>\n",
              "      <td>8969</td>\n",
              "      <td>Happy Jungle, минеральный камень для птиц с во...</td>\n",
              "      <td>&lt;p&gt;&lt;span style=\"color: rgb(51, 51, 51);\"&gt;Полез...</td>\n",
              "    </tr>\n",
              "    <tr>\n",
              "      <th>2</th>\n",
              "      <td>8100</td>\n",
              "      <td>Яркие объемные 3d Бабочки на магните</td>\n",
              "      <td>&lt;h2 class=\"ql-align-center\"&gt;Яркие объемные 3d ...</td>\n",
              "    </tr>\n",
              "    <tr>\n",
              "      <th>3</th>\n",
              "      <td>35149</td>\n",
              "      <td>Классический бюстгальтер с пуш-апом</td>\n",
              "      <td>&lt;p&gt;&lt;img src=\"https://image-cdn.kazanexpress.ru...</td>\n",
              "    </tr>\n",
              "    <tr>\n",
              "      <th>4</th>\n",
              "      <td>8913</td>\n",
              "      <td>Защитное стекло iPhone 5/5S/SE Черное | 10D с ...</td>\n",
              "      <td>&lt;p&gt;Защитное стекло для дисплея вашего apple га...</td>\n",
              "    </tr>\n",
              "  </tbody>\n",
              "</table>\n",
              "</div>"
            ],
            "text/plain": [
              "   Unnamed: 0  ...                                        description\n",
              "0       30330  ...  <p><img src=\"https://image-cdn.kazanexpress.ru...\n",
              "1        8969  ...  <p><span style=\"color: rgb(51, 51, 51);\">Полез...\n",
              "2        8100  ...  <h2 class=\"ql-align-center\">Яркие объемные 3d ...\n",
              "3       35149  ...  <p><img src=\"https://image-cdn.kazanexpress.ru...\n",
              "4        8913  ...  <p>Защитное стекло для дисплея вашего apple га...\n",
              "\n",
              "[5 rows x 3 columns]"
            ]
          },
          "metadata": {
            "tags": []
          },
          "execution_count": 4
        }
      ]
    },
    {
      "cell_type": "code",
      "metadata": {
        "id": "ykkhfC0jKjhg"
      },
      "source": [
        "from bs4 import BeautifulSoup\n",
        "\n",
        "def clean(html):\n",
        "    soup = BeautifulSoup(str(html), 'html')\n",
        "    return soup.text"
      ],
      "execution_count": 5,
      "outputs": []
    },
    {
      "cell_type": "code",
      "metadata": {
        "id": "6WNbJFLjL7vy"
      },
      "source": [
        "df['description_clean'] = df['description'].apply(clean)"
      ],
      "execution_count": 6,
      "outputs": []
    },
    {
      "cell_type": "code",
      "metadata": {
        "colab": {
          "base_uri": "https://localhost:8080/",
          "height": 306
        },
        "id": "DXA5JhJoQE9-",
        "outputId": "3488c01f-27db-4e61-bb9b-d0e097144eb9"
      },
      "source": [
        "df.head()"
      ],
      "execution_count": 7,
      "outputs": [
        {
          "output_type": "execute_result",
          "data": {
            "text/html": [
              "<div>\n",
              "<style scoped>\n",
              "    .dataframe tbody tr th:only-of-type {\n",
              "        vertical-align: middle;\n",
              "    }\n",
              "\n",
              "    .dataframe tbody tr th {\n",
              "        vertical-align: top;\n",
              "    }\n",
              "\n",
              "    .dataframe thead th {\n",
              "        text-align: right;\n",
              "    }\n",
              "</style>\n",
              "<table border=\"1\" class=\"dataframe\">\n",
              "  <thead>\n",
              "    <tr style=\"text-align: right;\">\n",
              "      <th></th>\n",
              "      <th>Unnamed: 0</th>\n",
              "      <th>title</th>\n",
              "      <th>description</th>\n",
              "      <th>description_clean</th>\n",
              "    </tr>\n",
              "  </thead>\n",
              "  <tbody>\n",
              "    <tr>\n",
              "      <th>0</th>\n",
              "      <td>30330</td>\n",
              "      <td>Анальная пробка</td>\n",
              "      <td>&lt;p&gt;&lt;img src=\"https://image-cdn.kazanexpress.ru...</td>\n",
              "      <td>**********************************************...</td>\n",
              "    </tr>\n",
              "    <tr>\n",
              "      <th>1</th>\n",
              "      <td>8969</td>\n",
              "      <td>Happy Jungle, минеральный камень для птиц с во...</td>\n",
              "      <td>&lt;p&gt;&lt;span style=\"color: rgb(51, 51, 51);\"&gt;Полез...</td>\n",
              "      <td>Полезное и вкусное дополнение к ежедневному ко...</td>\n",
              "    </tr>\n",
              "    <tr>\n",
              "      <th>2</th>\n",
              "      <td>8100</td>\n",
              "      <td>Яркие объемные 3d Бабочки на магните</td>\n",
              "      <td>&lt;h2 class=\"ql-align-center\"&gt;Яркие объемные 3d ...</td>\n",
              "      <td>Яркие объемные 3d Бабочки на магните, 12 штук....</td>\n",
              "    </tr>\n",
              "    <tr>\n",
              "      <th>3</th>\n",
              "      <td>35149</td>\n",
              "      <td>Классический бюстгальтер с пуш-апом</td>\n",
              "      <td>&lt;p&gt;&lt;img src=\"https://image-cdn.kazanexpress.ru...</td>\n",
              "      <td></td>\n",
              "    </tr>\n",
              "    <tr>\n",
              "      <th>4</th>\n",
              "      <td>8913</td>\n",
              "      <td>Защитное стекло iPhone 5/5S/SE Черное | 10D с ...</td>\n",
              "      <td>&lt;p&gt;Защитное стекло для дисплея вашего apple га...</td>\n",
              "      <td>Защитное стекло для дисплея вашего apple гадже...</td>\n",
              "    </tr>\n",
              "  </tbody>\n",
              "</table>\n",
              "</div>"
            ],
            "text/plain": [
              "   Unnamed: 0  ...                                  description_clean\n",
              "0       30330  ...  **********************************************...\n",
              "1        8969  ...  Полезное и вкусное дополнение к ежедневному ко...\n",
              "2        8100  ...  Яркие объемные 3d Бабочки на магните, 12 штук....\n",
              "3       35149  ...                                                   \n",
              "4        8913  ...  Защитное стекло для дисплея вашего apple гадже...\n",
              "\n",
              "[5 rows x 4 columns]"
            ]
          },
          "metadata": {
            "tags": []
          },
          "execution_count": 7
        }
      ]
    },
    {
      "cell_type": "markdown",
      "metadata": {
        "id": "L0VdwzQ3aOY0"
      },
      "source": [
        "###Description len destribution (kinda exponential)"
      ]
    },
    {
      "cell_type": "code",
      "metadata": {
        "colab": {
          "base_uri": "https://localhost:8080/",
          "height": 286
        },
        "id": "0A0rbuozYCSQ",
        "outputId": "f224ba35-63f2-46ac-ca83-166ec5cb8c57"
      },
      "source": [
        "import matplotlib.pyplot as plt\n",
        "fig, ax = plt.subplots()\n",
        "ax.set_xscale('log')\n",
        "\n",
        "df['description_clean'].str.len().hist(bins=100)"
      ],
      "execution_count": 9,
      "outputs": [
        {
          "output_type": "execute_result",
          "data": {
            "text/plain": [
              "<matplotlib.axes._subplots.AxesSubplot at 0x7f8605d87438>"
            ]
          },
          "metadata": {
            "tags": []
          },
          "execution_count": 9
        },
        {
          "output_type": "display_data",
          "data": {
            "image/png": "[encoded data removed]",
            "text/plain": [
              "<Figure size 432x288 with 1 Axes>"
            ]
          },
          "metadata": {
            "tags": [],
            "needs_background": "light"
          }
        }
      ]
    },
    {
      "cell_type": "markdown",
      "metadata": {
        "id": "the9DywZaa5e"
      },
      "source": [
        "###Title len destribution (kinda normal lol)"
      ]
    },
    {
      "cell_type": "code",
      "metadata": {
        "colab": {
          "base_uri": "https://localhost:8080/",
          "height": 286
        },
        "id": "p9eIdL55aTX9",
        "outputId": "88d212a9-4f40-452e-a3b2-767e196e31ff"
      },
      "source": [
        "fig, ax = plt.subplots()\n",
        "ax.set_xscale('log')\n",
        "\n",
        "df['title'].str.len().hist(bins=100)"
      ],
      "execution_count": 11,
      "outputs": [
        {
          "output_type": "execute_result",
          "data": {
            "text/plain": [
              "<matplotlib.axes._subplots.AxesSubplot at 0x7f8605615860>"
            ]
          },
          "metadata": {
            "tags": []
          },
          "execution_count": 11
        },
        {
          "output_type": "display_data",
          "data": {
            "image/png": "[encoded data removed]",
            "text/plain": [
              "<Figure size 432x288 with 1 Axes>"
            ]
          },
          "metadata": {
            "tags": [],
            "needs_background": "light"
          }
        }
      ]
    },
    {
      "cell_type": "code",
      "metadata": {
        "id": "mOPgdkhpRMvV"
      },
      "source": [
        "import nltk\n",
        "from nltk.corpus import stopwords\n",
        "from nltk.stem.snowball import SnowballStemmer\n",
        "\n",
        "nltk.download('punkt')\n",
        "nltk.download('stopwords')\n",
        "\n",
        "\n",
        "def preprocessing(text: str) -> str:\n",
        "    text = str(text)\n",
        "    # tokenize sent\n",
        "    tokens = nltk.word_tokenize(text)\n",
        "    # remove non alphabetic words\n",
        "    words = [word.lower() for word in tokens if word.isalpha()]\n",
        "\n",
        "    # remove punctuation\n",
        "    import string\n",
        "    table = str.maketrans('', '', string.punctuation)\n",
        "    words = [w.translate(table) for w in words]\n",
        "\n",
        "    # remove stop words\n",
        "    stop_words = set(stopwords.words('russian'))\n",
        "    words = [w for w in words if not w in stop_words]\n",
        "\n",
        "\n",
        "    # test\n",
        "    porter = SnowballStemmer(\"russian\")\n",
        "    stemmed = [porter.stem(word) for word in words]\n",
        "\n",
        "    return ' '.join(stemmed)"
      ],
      "execution_count": null,
      "outputs": []
    },
    {
      "cell_type": "code",
      "metadata": {
        "colab": {
          "base_uri": "https://localhost:8080/",
          "height": 37
        },
        "id": "--EYZ0yESRwn",
        "outputId": "fe1b69da-36c9-4109-8c5e-11685cf80a1d"
      },
      "source": [
        "preprocessing('Защитное стекло, iPhone 5/5S/SE Черное | 10D с ..')"
      ],
      "execution_count": 13,
      "outputs": [
        {
          "output_type": "execute_result",
          "data": {
            "application/vnd.google.colaboratory.intrinsic+json": {
              "type": "string"
            },
            "text/plain": [
              "'защитн стекл iphon черн'"
            ]
          },
          "metadata": {
            "tags": []
          },
          "execution_count": 13
        }
      ]
    },
    {
      "cell_type": "code",
      "metadata": {
        "colab": {
          "base_uri": "https://localhost:8080/",
          "height": 204
        },
        "id": "iG768sWzTjYh",
        "outputId": "9f7c27ec-0ed2-4b1d-a03f-cdad1e53bada"
      },
      "source": [
        "df_ready = df[[\"title\", \"description_clean\"]]\n",
        "df_ready = df_ready.applymap(preprocessing)\n",
        "df_ready.head()"
      ],
      "execution_count": 14,
      "outputs": [
        {
          "output_type": "execute_result",
          "data": {
            "text/html": [
              "<div>\n",
              "<style scoped>\n",
              "    .dataframe tbody tr th:only-of-type {\n",
              "        vertical-align: middle;\n",
              "    }\n",
              "\n",
              "    .dataframe tbody tr th {\n",
              "        vertical-align: top;\n",
              "    }\n",
              "\n",
              "    .dataframe thead th {\n",
              "        text-align: right;\n",
              "    }\n",
              "</style>\n",
              "<table border=\"1\" class=\"dataframe\">\n",
              "  <thead>\n",
              "    <tr style=\"text-align: right;\">\n",
              "      <th></th>\n",
              "      <th>title</th>\n",
              "      <th>description_clean</th>\n",
              "    </tr>\n",
              "  </thead>\n",
              "  <tbody>\n",
              "    <tr>\n",
              "      <th>0</th>\n",
              "      <td>анальн пробк</td>\n",
              "      <td>гост наш магазин рад прояв интерес интимн това...</td>\n",
              "    </tr>\n",
              "    <tr>\n",
              "      <th>1</th>\n",
              "      <td>happ jungl минеральн камен птиц водоросл г</td>\n",
              "      <td>полезн вкусн дополнен ежедневн корм такж средс...</td>\n",
              "    </tr>\n",
              "    <tr>\n",
              "      <th>2</th>\n",
              "      <td>ярк объемн бабочк магн</td>\n",
              "      <td>ярк объемн бабочк магн комплект идут круглешк ...</td>\n",
              "    </tr>\n",
              "    <tr>\n",
              "      <th>3</th>\n",
              "      <td>классическ бюстгальтер</td>\n",
              "      <td></td>\n",
              "    </tr>\n",
              "    <tr>\n",
              "      <th>4</th>\n",
              "      <td>защитн стекл iphon черн салфетк стикер копплек...</td>\n",
              "      <td>защитн стекл диспле ваш appl гаджет надежн защ...</td>\n",
              "    </tr>\n",
              "  </tbody>\n",
              "</table>\n",
              "</div>"
            ],
            "text/plain": [
              "                                               title                                  description_clean\n",
              "0                                       анальн пробк  гост наш магазин рад прояв интерес интимн това...\n",
              "1         happ jungl минеральн камен птиц водоросл г  полезн вкусн дополнен ежедневн корм такж средс...\n",
              "2                             ярк объемн бабочк магн  ярк объемн бабочк магн комплект идут круглешк ...\n",
              "3                             классическ бюстгальтер                                                   \n",
              "4  защитн стекл iphon черн салфетк стикер копплек...  защитн стекл диспле ваш appl гаджет надежн защ..."
            ]
          },
          "metadata": {
            "tags": []
          },
          "execution_count": 14
        }
      ]
    },
    {
      "cell_type": "code",
      "metadata": {
        "id": "RftsNq8c4U31"
      },
      "source": [
        "df_ready.to_csv('df_ready.csv')"
      ],
      "execution_count": 15,
      "outputs": []
    },
    {
      "cell_type": "code",
      "metadata": {
        "colab": {
          "base_uri": "https://localhost:8080/",
          "height": 419
        },
        "id": "QhKif0NWGJL4",
        "outputId": "6152160b-df94-44b3-fc0a-d30145995158"
      },
      "source": [
        "import pandas as pd\n",
        "df_ready = pd.read_csv(\"df_ready.csv\").dropna()\n",
        "df_ready"
      ],
      "execution_count": 42,
      "outputs": [
        {
          "output_type": "execute_result",
          "data": {
            "text/html": [
              "<div>\n",
              "<style scoped>\n",
              "    .dataframe tbody tr th:only-of-type {\n",
              "        vertical-align: middle;\n",
              "    }\n",
              "\n",
              "    .dataframe tbody tr th {\n",
              "        vertical-align: top;\n",
              "    }\n",
              "\n",
              "    .dataframe thead th {\n",
              "        text-align: right;\n",
              "    }\n",
              "</style>\n",
              "<table border=\"1\" class=\"dataframe\">\n",
              "  <thead>\n",
              "    <tr style=\"text-align: right;\">\n",
              "      <th></th>\n",
              "      <th>Unnamed: 0</th>\n",
              "      <th>title</th>\n",
              "      <th>description_clean</th>\n",
              "    </tr>\n",
              "  </thead>\n",
              "  <tbody>\n",
              "    <tr>\n",
              "      <th>0</th>\n",
              "      <td>0</td>\n",
              "      <td>анальн пробк</td>\n",
              "      <td>гост наш магазин рад прояв интерес интимн това...</td>\n",
              "    </tr>\n",
              "    <tr>\n",
              "      <th>1</th>\n",
              "      <td>1</td>\n",
              "      <td>happ jungl минеральн камен птиц водоросл г</td>\n",
              "      <td>полезн вкусн дополнен ежедневн корм такж средс...</td>\n",
              "    </tr>\n",
              "    <tr>\n",
              "      <th>2</th>\n",
              "      <td>2</td>\n",
              "      <td>ярк объемн бабочк магн</td>\n",
              "      <td>ярк объемн бабочк магн комплект идут круглешк ...</td>\n",
              "    </tr>\n",
              "    <tr>\n",
              "      <th>4</th>\n",
              "      <td>4</td>\n",
              "      <td>защитн стекл iphon черн салфетк стикер копплек...</td>\n",
              "      <td>защитн стекл диспле ваш appl гаджет надежн защ...</td>\n",
              "    </tr>\n",
              "    <tr>\n",
              "      <th>5</th>\n",
              "      <td>5</td>\n",
              "      <td>крем гиалуронов увлажнен омоложен secret ke hy...</td>\n",
              "      <td>напиш нам чат получ промокод hyaluron aqu soft...</td>\n",
              "    </tr>\n",
              "    <tr>\n",
              "      <th>...</th>\n",
              "      <td>...</td>\n",
              "      <td>...</td>\n",
              "      <td>...</td>\n",
              "    </tr>\n",
              "    <tr>\n",
              "      <th>199995</th>\n",
              "      <td>199995</td>\n",
              "      <td>защитн стекл glass appl iphon х xr</td>\n",
              "      <td>защитн стекл glass эт сверхпрочн сверхтонк сте...</td>\n",
              "    </tr>\n",
              "    <tr>\n",
              "      <th>199996</th>\n",
              "      <td>199996</td>\n",
              "      <td>магнитик</td>\n",
              "      <td>сувенирн магнитик акрилов вид казан</td>\n",
              "    </tr>\n",
              "    <tr>\n",
              "      <th>199997</th>\n",
              "      <td>199997</td>\n",
              "      <td>набор тонк сверл шт</td>\n",
              "      <td>набор сверл обработк дерев пластик металл спец...</td>\n",
              "    </tr>\n",
              "    <tr>\n",
              "      <th>199998</th>\n",
              "      <td>199998</td>\n",
              "      <td>гибк защитн стекл ceramics appl iphon</td>\n",
              "      <td>уникальн противоударн защитн стекл лицев сторо...</td>\n",
              "    </tr>\n",
              "    <tr>\n",
              "      <th>199999</th>\n",
              "      <td>199999</td>\n",
              "      <td>кист макияж кист пудр румя</td>\n",
              "      <td>синтетическ кист нанесен румя бронзер пудр поз...</td>\n",
              "    </tr>\n",
              "  </tbody>\n",
              "</table>\n",
              "<p>191018 rows × 3 columns</p>\n",
              "</div>"
            ],
            "text/plain": [
              "        Unnamed: 0  ...                                  description_clean\n",
              "0                0  ...  гост наш магазин рад прояв интерес интимн това...\n",
              "1                1  ...  полезн вкусн дополнен ежедневн корм такж средс...\n",
              "2                2  ...  ярк объемн бабочк магн комплект идут круглешк ...\n",
              "4                4  ...  защитн стекл диспле ваш appl гаджет надежн защ...\n",
              "5                5  ...  напиш нам чат получ промокод hyaluron aqu soft...\n",
              "...            ...  ...                                                ...\n",
              "199995      199995  ...  защитн стекл glass эт сверхпрочн сверхтонк сте...\n",
              "199996      199996  ...                сувенирн магнитик акрилов вид казан\n",
              "199997      199997  ...  набор сверл обработк дерев пластик металл спец...\n",
              "199998      199998  ...  уникальн противоударн защитн стекл лицев сторо...\n",
              "199999      199999  ...  синтетическ кист нанесен румя бронзер пудр поз...\n",
              "\n",
              "[191018 rows x 3 columns]"
            ]
          },
          "metadata": {
            "tags": []
          },
          "execution_count": 42
        }
      ]
    },
    {
      "cell_type": "markdown",
      "metadata": {
        "id": "30Zj8xrN2i3a"
      },
      "source": [
        "## Предесловие\n",
        "ембединги получаются путем прогона всех текстов через предобученные модели-трансформеры.\n",
        "\n"
      ]
    },
    {
      "cell_type": "markdown",
      "metadata": {
        "id": "bakC4NHU0Jfs"
      },
      "source": [
        "## Prepare inference model V1"
      ]
    },
    {
      "cell_type": "code",
      "metadata": {
        "id": "QJyCEUnkbHdu"
      },
      "source": [
        "!python3 -m pip install --upgrade pip\n",
        "# first run with --use-deprecated=legacy-resolver then without :\\\n",
        "!pip3 install --use-deprecated=legacy-resolver deeppavlov "
      ],
      "execution_count": null,
      "outputs": []
    },
    {
      "cell_type": "code",
      "metadata": {
        "id": "P51TVb2knX7L"
      },
      "source": [
        "!wget https://raw.githubusercontent.com/deepmipt/DeepPavlov/master/deeppavlov/configs/embedder/elmo_ru_wiki.json"
      ],
      "execution_count": null,
      "outputs": []
    },
    {
      "cell_type": "code",
      "metadata": {
        "id": "cyOGrQ2ffVJz"
      },
      "source": [
        "%tensorflow_version 1.x\n",
        "from deeppavlov import build_model\n",
        "\n",
        "\n",
        "elmo_model = build_model('elmo_ru_wiki.json', download=True)"
      ],
      "execution_count": null,
      "outputs": []
    },
    {
      "cell_type": "code",
      "metadata": {
        "id": "lR6Fy6y6i7lt",
        "colab": {
          "base_uri": "https://localhost:8080/"
        },
        "outputId": "6e2b1e08-21c8-4f2e-af16-91e51bab1a87"
      },
      "source": [
        "elmo_model([['привет мир я елмо', 'лол кек']])[0].__len__()"
      ],
      "execution_count": 9,
      "outputs": [
        {
          "output_type": "execute_result",
          "data": {
            "text/plain": [
              "2"
            ]
          },
          "metadata": {
            "tags": []
          },
          "execution_count": 9
        }
      ]
    },
    {
      "cell_type": "code",
      "metadata": {
        "colab": {
          "base_uri": "https://localhost:8080/",
          "height": 154,
          "referenced_widgets": [
            "2360f74b46364156803320481fe221c6",
            "6a6f995ed5bb4159928bc8f74b6058d3",
            "1b7fcff0cd19417695a71322e4476b9a",
            "9e1d66a80d28470698d6b16c96662b6f",
            "a9b480ea21914a038bb2b7f6b78477b8",
            "bec51e61c90a4cb3914af17b87fa1bdf",
            "0747003767a9431cb11b065e76069a69",
            "eadf1ea195ce442298f82670bd657ef7"
          ]
        },
        "id": "EL7LA8GKyIR0",
        "outputId": "4e947a0a-e4b5-49e5-a352-78d939868b83"
      },
      "source": [
        "from tqdm import tqdm_notebook\n",
        "\n",
        "vectors = []\n",
        "batch = []\n",
        "batch_size = 128\n",
        "\n",
        "for index, row in tqdm_notebook(df_ready.iterrows()):\n",
        "    batch.append([row['title'] + ' ' + row['description_clean']])\n",
        "    \n",
        "    if len(batch) == batch_size:\n",
        "\n",
        "        vectors += elmo_model(batch)\n",
        "        batch = []\n",
        "\n",
        "\n",
        "vectors += elmo_model(batch)\n",
        "\n",
        "len(vectors)"
      ],
      "execution_count": 43,
      "outputs": [
        {
          "output_type": "stream",
          "text": [
            "/usr/local/lib/python3.6/dist-packages/ipykernel_launcher.py:7: TqdmDeprecationWarning: This function will be removed in tqdm==5.0.0\n",
            "Please use `tqdm.notebook.tqdm` instead of `tqdm.tqdm_notebook`\n",
            "  import sys\n"
          ],
          "name": "stderr"
        },
        {
          "output_type": "display_data",
          "data": {
            "application/vnd.jupyter.widget-view+json": {
              "model_id": "2360f74b46364156803320481fe221c6",
              "version_minor": 0,
              "version_major": 2
            },
            "text/plain": [
              "HBox(children=(FloatProgress(value=1.0, bar_style='info', max=1.0), HTML(value='')))"
            ]
          },
          "metadata": {
            "tags": []
          }
        },
        {
          "output_type": "stream",
          "text": [
            "\n"
          ],
          "name": "stdout"
        },
        {
          "output_type": "execute_result",
          "data": {
            "text/plain": [
              "191018"
            ]
          },
          "metadata": {
            "tags": []
          },
          "execution_count": 43
        }
      ]
    },
    {
      "cell_type": "code",
      "metadata": {
        "colab": {
          "base_uri": "https://localhost:8080/"
        },
        "id": "5Qf41BgqIRVW",
        "outputId": "c8670411-8c86-452d-f994-25a436e1e589"
      },
      "source": [
        "import numpy as np\n",
        "vectors = np.array(vectors)\n",
        "vectors = np.squeeze(vectors, axis=1)\n",
        "\n",
        "vectors.shape"
      ],
      "execution_count": 44,
      "outputs": [
        {
          "output_type": "execute_result",
          "data": {
            "text/plain": [
              "(191018, 2560)"
            ]
          },
          "metadata": {
            "tags": []
          },
          "execution_count": 44
        }
      ]
    },
    {
      "cell_type": "code",
      "metadata": {
        "id": "Ui37UJxF5fFS"
      },
      "source": [
        "def get_vector(query:str) -> np.array:\n",
        "    return elmo_model([[query]])[0].squeeze(axis=0)"
      ],
      "execution_count": 45,
      "outputs": []
    },
    {
      "cell_type": "markdown",
      "metadata": {
        "id": "ZFcB0rWXyHtJ"
      },
      "source": [
        "## Prepare inference model V2 (launch in separete session fomr V1 (tf incompat))"
      ]
    },
    {
      "cell_type": "code",
      "metadata": {
        "id": "_Ijg0ITSDaqT"
      },
      "source": [
        "!pip install tensorflow_text"
      ],
      "execution_count": null,
      "outputs": []
    },
    {
      "cell_type": "code",
      "metadata": {
        "id": "8S-zhQ32lZOy"
      },
      "source": [
        "import tensorflow_hub as hub\n",
        "import tensorflow as tf\n",
        "import numpy as np\n",
        "import tensorflow_text as text \n",
        "embed = hub.load(\"https://tfhub.dev/google/universal-sentence-encoder-multilingual/3\")"
      ],
      "execution_count": 9,
      "outputs": []
    },
    {
      "cell_type": "code",
      "metadata": {
        "colab": {
          "base_uri": "https://localhost:8080/",
          "height": 154,
          "referenced_widgets": [
            "4aba0934bcaa422f9f929b5489a33275",
            "3c161b8986a64e70929a9d1b4420c1b7",
            "9304236bb3bc4bd8a07e78d4e7ab46a1",
            "0d65eb6a1bb84273b095be6970f12332",
            "d97a7675980549ebae56860acf3b8866",
            "5b3a5fee20174b5e9b526ecfc3ae9ff7",
            "96aaf12b90124cd38e2dfdf03d7424f1",
            "2cc3ce579d3f455393365700d56a9174"
          ]
        },
        "id": "RZYqhlqetJE_",
        "outputId": "720a954b-1665-479c-840d-d40d1847d13a"
      },
      "source": [
        "df_ready = df.dropna()\n",
        "\n",
        "from tqdm import tqdm_notebook\n",
        "\n",
        "vectors = []\n",
        "batch = []\n",
        "batch_size = 128\n",
        "\n",
        "for index, row in tqdm_notebook(df_ready.iterrows()):\n",
        "    batch.append([row['title'] + ' ' + row['description_clean']])\n",
        "    \n",
        "    if len(batch) == batch_size:\n",
        "\n",
        "        vectors.append(embed(batch))\n",
        "        batch = []\n",
        "\n",
        "\n",
        "vectors.append(embed(batch))\n",
        "vectors = np.concatenate([i.numpy() for i in vectors], axis=0)\n",
        "\n",
        "vectors.shape"
      ],
      "execution_count": 11,
      "outputs": [
        {
          "output_type": "stream",
          "text": [
            "/usr/local/lib/python3.6/dist-packages/ipykernel_launcher.py:9: TqdmDeprecationWarning: This function will be removed in tqdm==5.0.0\n",
            "Please use `tqdm.notebook.tqdm` instead of `tqdm.tqdm_notebook`\n",
            "  if __name__ == '__main__':\n"
          ],
          "name": "stderr"
        },
        {
          "output_type": "display_data",
          "data": {
            "application/vnd.jupyter.widget-view+json": {
              "model_id": "4aba0934bcaa422f9f929b5489a33275",
              "version_minor": 0,
              "version_major": 2
            },
            "text/plain": [
              "HBox(children=(FloatProgress(value=1.0, bar_style='info', max=1.0), HTML(value='')))"
            ]
          },
          "metadata": {
            "tags": []
          }
        },
        {
          "output_type": "stream",
          "text": [
            "\n"
          ],
          "name": "stdout"
        },
        {
          "output_type": "execute_result",
          "data": {
            "text/plain": [
              "(199991, 512)"
            ]
          },
          "metadata": {
            "tags": []
          },
          "execution_count": 11
        }
      ]
    },
    {
      "cell_type": "code",
      "metadata": {
        "id": "thpv84EI4eXF"
      },
      "source": [
        "def get_vector(query:str) -> np.array:\n",
        "    return embed([query])[0].numpy()"
      ],
      "execution_count": 12,
      "outputs": []
    },
    {
      "cell_type": "markdown",
      "metadata": {
        "id": "TlyiDpwAVn0w"
      },
      "source": [
        "## Построить векторное представление"
      ]
    },
    {
      "cell_type": "code",
      "metadata": {
        "colab": {
          "base_uri": "https://localhost:8080/"
        },
        "id": "i5rAhSlu6PiQ",
        "outputId": "be90d5e8-34ee-49e1-a215-e2117aa7d31b"
      },
      "source": [
        "def normalization(embeds):\n",
        "  norms = np.linalg.norm(embeds, 2, axis=1, keepdims=True)\n",
        "  return embeds/norms\n",
        "\n",
        "vectors_norm = normalization(vectors)\n",
        "vectors_norm.shape"
      ],
      "execution_count": 13,
      "outputs": [
        {
          "output_type": "execute_result",
          "data": {
            "text/plain": [
              "(199991, 512)"
            ]
          },
          "metadata": {
            "tags": []
          },
          "execution_count": 13
        }
      ]
    },
    {
      "cell_type": "markdown",
      "metadata": {
        "id": "C2Gr7jpI3DJ_"
      },
      "source": [
        "изначальная идея была использовать `TSNE` но из-за большого количества данных был выбран `TruncatedSVD`, так как он работает быстрее"
      ]
    },
    {
      "cell_type": "code",
      "metadata": {
        "id": "ns6mzFv1JMAg"
      },
      "source": [
        "from sklearn.manifold import TSNE\n",
        "from sklearn.decomposition import TruncatedSVD"
      ],
      "execution_count": 14,
      "outputs": []
    },
    {
      "cell_type": "code",
      "metadata": {
        "id": "ifdvYRJIFJZ9"
      },
      "source": [
        "encoded = TruncatedSVD(n_components=2).fit_transform(vectors_norm)"
      ],
      "execution_count": 15,
      "outputs": []
    },
    {
      "cell_type": "code",
      "metadata": {
        "colab": {
          "base_uri": "https://localhost:8080/"
        },
        "id": "9jVs8hjAJQog",
        "outputId": "b3061f12-a515-4356-fa52-0bedad0bdfe4"
      },
      "source": [
        "encoded.shape"
      ],
      "execution_count": 16,
      "outputs": [
        {
          "output_type": "execute_result",
          "data": {
            "text/plain": [
              "(199991, 2)"
            ]
          },
          "metadata": {
            "tags": []
          },
          "execution_count": 16
        }
      ]
    },
    {
      "cell_type": "markdown",
      "metadata": {
        "id": "10hIbqqBVt0E"
      },
      "source": [
        "## Показать проекцию всех товаров, или части товаров, на 2D"
      ]
    },
    {
      "cell_type": "code",
      "metadata": {
        "colab": {
          "base_uri": "https://localhost:8080/",
          "height": 265
        },
        "id": "L8TC835CMV-z",
        "outputId": "4e060581-d7ae-483f-c9f5-7fcb52567a97"
      },
      "source": [
        "import numpy as np\n",
        "import matplotlib.pyplot as plt\n",
        "\n",
        "\n",
        "x = encoded[:,0]\n",
        "y = encoded[:,1]\n",
        "\n",
        "plt.scatter(x, y)\n",
        "plt.show()"
      ],
      "execution_count": 18,
      "outputs": [
        {
          "output_type": "display_data",
          "data": {
            "image/png": "[encoded data removed]",
            "text/plain": [
              "<Figure size 432x288 with 1 Axes>"
            ]
          },
          "metadata": {
            "tags": [],
            "needs_background": "light"
          }
        }
      ]
    },
    {
      "cell_type": "markdown",
      "metadata": {
        "id": "7-EcqQEDZFXV"
      },
      "source": [
        "## Показать примеры решения задач кластеризации с помощью этих представлений"
      ]
    },
    {
      "cell_type": "markdown",
      "metadata": {
        "id": "e8TjqPNk3-Fo"
      },
      "source": [
        "среди алгоритмов кластеризации был выбран `MiniBatchKMeans` из-за его скорости и возможности создания кластеров в равномерно распределенных данных\n"
      ]
    },
    {
      "cell_type": "code",
      "metadata": {
        "id": "oQLlmOdjNGVb"
      },
      "source": [
        "from sklearn.cluster import MiniBatchKMeans, KMeans, SpectralClustering\n",
        "import matplotlib.cm as cm"
      ],
      "execution_count": 19,
      "outputs": []
    },
    {
      "cell_type": "code",
      "metadata": {
        "id": "8ePTj3T3Oxxs"
      },
      "source": [
        "model = MiniBatchKMeans(20, batch_size=1000)\n",
        "prediction = model.fit_predict(vectors_norm)"
      ],
      "execution_count": 20,
      "outputs": []
    },
    {
      "cell_type": "code",
      "metadata": {
        "colab": {
          "base_uri": "https://localhost:8080/",
          "height": 265
        },
        "id": "A1Cbu7I8Pxa-",
        "outputId": "2e3564a7-d77e-4129-9b2d-2e84c72d8b18"
      },
      "source": [
        "x = encoded[:,0]\n",
        "y = encoded[:,1]\n",
        "\n",
        "plt.scatter(x, y, c=prediction, cmap=cm.jet)\n",
        "plt.show()"
      ],
      "execution_count": 21,
      "outputs": [
        {
          "output_type": "display_data",
          "data": {
            "image/png": "[encoded data removed]",
            "text/plain": [
              "<Figure size 432x288 with 1 Axes>"
            ]
          },
          "metadata": {
            "tags": [],
            "needs_background": "light"
          }
        }
      ]
    },
    {
      "cell_type": "markdown",
      "metadata": {
        "id": "g3F_tPMJZCKI"
      },
      "source": [
        "## Показать примеры решения задач поиска K ближайших с помощью этих представлений"
      ]
    },
    {
      "cell_type": "markdown",
      "metadata": {
        "id": "ngTuly7e44wZ"
      },
      "source": [
        "изначальная идея ембедингов составить скрытое пространство дл япредставления схожести документов как расстояние в этом пространстве. Для задачи поиска в таком пространстве подходящий вариант `NearestNeighbors` для поиска K ближайщих соседей в этом пространстве."
      ]
    },
    {
      "cell_type": "code",
      "metadata": {
        "id": "5UUMIut1ZJqV"
      },
      "source": [
        "k = 5"
      ],
      "execution_count": 22,
      "outputs": []
    },
    {
      "cell_type": "code",
      "metadata": {
        "id": "nFMqI0wya8mz"
      },
      "source": [
        "from sklearn.neighbors import NearestNeighbors\n",
        "\n",
        "nbrs = NearestNeighbors(n_neighbors=k, algorithm='ball_tree').fit(vectors_norm)"
      ],
      "execution_count": 26,
      "outputs": []
    },
    {
      "cell_type": "code",
      "metadata": {
        "id": "KKpwJbqLZKlO"
      },
      "source": [
        "query = 'свитер'\n",
        "# query = preprocessing(query)\n",
        "\n",
        "query_vec = get_vector(query)\n",
        "\n",
        "distances, indices = nbrs.kneighbors([query_vec])"
      ],
      "execution_count": 28,
      "outputs": []
    },
    {
      "cell_type": "code",
      "metadata": {
        "colab": {
          "base_uri": "https://localhost:8080/",
          "height": 204
        },
        "id": "krSBu7Orcw1G",
        "outputId": "a993effe-1a87-4f38-a9ba-be13fdc573fe"
      },
      "source": [
        "df_ready.iloc[indices[0]]"
      ],
      "execution_count": 29,
      "outputs": [
        {
          "output_type": "execute_result",
          "data": {
            "text/html": [
              "<div>\n",
              "<style scoped>\n",
              "    .dataframe tbody tr th:only-of-type {\n",
              "        vertical-align: middle;\n",
              "    }\n",
              "\n",
              "    .dataframe tbody tr th {\n",
              "        vertical-align: top;\n",
              "    }\n",
              "\n",
              "    .dataframe thead th {\n",
              "        text-align: right;\n",
              "    }\n",
              "</style>\n",
              "<table border=\"1\" class=\"dataframe\">\n",
              "  <thead>\n",
              "    <tr style=\"text-align: right;\">\n",
              "      <th></th>\n",
              "      <th>Unnamed: 0</th>\n",
              "      <th>title</th>\n",
              "      <th>description</th>\n",
              "      <th>description_clean</th>\n",
              "    </tr>\n",
              "  </thead>\n",
              "  <tbody>\n",
              "    <tr>\n",
              "      <th>21459</th>\n",
              "      <td>7298</td>\n",
              "      <td>Юбка</td>\n",
              "      <td>&lt;p class=\"ql-align-center\"&gt;&lt;img src=\"https://i...</td>\n",
              "      <td></td>\n",
              "    </tr>\n",
              "    <tr>\n",
              "      <th>187678</th>\n",
              "      <td>16744</td>\n",
              "      <td>Вязаный полосатый свитер</td>\n",
              "      <td>&lt;p&gt;Вязаный полосатый свитер&amp;nbsp;&lt;/p&gt;</td>\n",
              "      <td>Вязаный полосатый свитер</td>\n",
              "    </tr>\n",
              "    <tr>\n",
              "      <th>17879</th>\n",
              "      <td>17906</td>\n",
              "      <td>Sweet свитер</td>\n",
              "      <td>&lt;p&gt;нежные и уютные свитерочки&lt;/p&gt;</td>\n",
              "      <td>нежные и уютные свитерочки</td>\n",
              "    </tr>\n",
              "    <tr>\n",
              "      <th>58389</th>\n",
              "      <td>7634</td>\n",
              "      <td>Юбка трикотажная тёплая</td>\n",
              "      <td>&lt;p&gt;&lt;br&gt;&lt;/p&gt;</td>\n",
              "      <td></td>\n",
              "    </tr>\n",
              "    <tr>\n",
              "      <th>48563</th>\n",
              "      <td>606</td>\n",
              "      <td>Жилет</td>\n",
              "      <td>&lt;p&gt;орщшргкео&lt;/p&gt;</td>\n",
              "      <td>орщшргкео</td>\n",
              "    </tr>\n",
              "  </tbody>\n",
              "</table>\n",
              "</div>"
            ],
            "text/plain": [
              "        Unnamed: 0  ...           description_clean\n",
              "21459         7298  ...                            \n",
              "187678       16744  ...   Вязаный полосатый свитер \n",
              "17879        17906  ...  нежные и уютные свитерочки\n",
              "58389         7634  ...                            \n",
              "48563          606  ...                   орщшргкео\n",
              "\n",
              "[5 rows x 4 columns]"
            ]
          },
          "metadata": {
            "tags": []
          },
          "execution_count": 29
        }
      ]
    },
    {
      "cell_type": "code",
      "metadata": {
        "id": "L0sbMK4IJ1No"
      },
      "source": [
        "from typing import List\n",
        "\n",
        "def get_5_nearest(query: str) -> List[str]:\n",
        "\n",
        "    query_vec = get_vector(query)\n",
        "\n",
        "    distances, indices = nbrs.kneighbors([query_vec])\n",
        "\n",
        "    result = []\n",
        "    for i, row in df_ready.iloc[indices[0]].iterrows():\n",
        "\n",
        "        result.append(row['title'] + ' ' + row['description_clean'])\n",
        "\n",
        "    return result"
      ],
      "execution_count": 55,
      "outputs": []
    },
    {
      "cell_type": "code",
      "metadata": {
        "colab": {
          "base_uri": "https://localhost:8080/"
        },
        "id": "ZjlWe4_jLkh7",
        "outputId": "c557559e-2ef6-483d-f589-2087ba26ab25"
      },
      "source": [
        "query = 'свитер'\n",
        "get_5_nearest(query)"
      ],
      "execution_count": 56,
      "outputs": [
        {
          "output_type": "execute_result",
          "data": {
            "text/plain": [
              "['Юбка ',\n",
              " 'Вязаный полосатый свитер Вязаный полосатый свитер\\xa0',\n",
              " 'Sweet свитер нежные и уютные свитерочки',\n",
              " 'Юбка трикотажная тёплая ',\n",
              " 'Жилет орщшргкео']"
            ]
          },
          "metadata": {
            "tags": []
          },
          "execution_count": 56
        }
      ]
    }
  ]
}